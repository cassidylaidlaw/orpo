{
 "cells": [
  {
   "cell_type": "code",
   "execution_count": 36,
   "id": "fd4215b7",
   "metadata": {
    "scrolled": false
   },
   "outputs": [],
   "source": [
    "import glob\n",
    "import tensorflow as tf\n",
    "import numpy as np\n",
    "import pandas as pd\n",
    "import matplotlib.pyplot as plt\n",
    "from sklearn import metrics\n",
    "import pandas as pd\n",
    "import pickle"
   ]
  },
  {
   "cell_type": "code",
   "execution_count": 2,
   "id": "73e8f264",
   "metadata": {},
   "outputs": [],
   "source": [
    "PROXY_REWARD_TAGS = \"custom_metrics/proxy_reward_mean\"\n",
    "TRUE_REWARD_TAGS = \"custom_metrics/true_reward_mean\"\n",
    "OM_TAGS = \"info/learner/safe_policy0/occupancy_measure_kl\"\n",
    "AD_TAGS = \"info/learner/safe_policy0/action_distribution_kl\""
   ]
  },
  {
   "cell_type": "code",
   "execution_count": 3,
   "id": "1675a072",
   "metadata": {},
   "outputs": [],
   "source": [
    "GLUCOSE_SAFE_POLICY_PROXY = -106.646103\n",
    "GLUCOSE_SAFE_POLICY_TRUE = -72635.791604\n",
    "GLUCOSE_NO_REG_PROXY = -0.91035673333333\n",
    "GLUCOSE_NO_REG_TRUE = -599023.451246629\n",
    "GLUCOSE_THRESHOLD_PROXY = GLUCOSE_SAFE_POLICY_PROXY  # np.mean([GLUCOSE_NO_REG_PROXY, GLUCOSE_SAFE_POLICY_PROXY])\n",
    "GLUCOSE_THRESHOLD_TRUE = (\n",
    "    GLUCOSE_SAFE_POLICY_TRUE  # np.mean([GLUCOSE_NO_REG_TRUE, GLUCOSE_SAFE_POLICY_TRUE])\n",
    ")\n",
    "\n",
    "PANDEMIC_SAFE_POLICY_PROXY = -12.057395\n",
    "PANDEMIC_SAFE_POLICY_TRUE = -12.257395\n",
    "PANDEMIC_NO_REG_PROXY = -1.2893852358693285\n",
    "PANDEMIC_NO_REG_TRUE = -29.57349266440372\n",
    "PANDEMIC_THRESHOLD_PROXY = PANDEMIC_SAFE_POLICY_PROXY  # np.mean([PANDEMIC_NO_REG_PROXY, PANDEMIC_SAFE_POLICY_PROXY])\n",
    "PANDEMIC_THRESHOLD_TRUE = PANDEMIC_SAFE_POLICY_TRUE  # np.mean([PANDEMIC_NO_REG_TRUE, PANDEMIC_SAFE_POLICY_TRUE])\n",
    "\n",
    "TOMATO_SAFE_POLICY_PROXY = 6.142000\n",
    "TOMATO_SAFE_POLICY_TRUE = 5.856167\n",
    "TOMATO_NO_REG_PROXY = 45.724166666666726\n",
    "TOMATO_NO_REG_TRUE = 2.3516666666666683\n",
    "TOMATO_THRESHOLD_PROXY = (\n",
    "    TOMATO_SAFE_POLICY_PROXY  # np.mean([TOMATO_NO_REG_PROXY, TOMATO_SAFE_POLICY_PROXY])\n",
    ")\n",
    "TOMATO_THRESHOLD_TRUE = (\n",
    "    TOMATO_SAFE_POLICY_TRUE  # np.mean([TOMATO_NO_REG_TRUE, TOMATO_SAFE_POLICY_TRUE])\n",
    ")\n",
    "\n",
    "TRAFFIC_SAFE_POLICY_PROXY = 1360.404346\n",
    "TRAFFIC_SAFE_POLICY_TRUE = -2284.477325\n",
    "TRAFFIC_NO_REG_PROXY = 2569.5555456780753\n",
    "TRAFFIC_NO_REG_TRUE = -57377.787423069814\n",
    "TRAFFIC_THRESHOLD_PROXY = TRAFFIC_SAFE_POLICY_PROXY  # np.mean([TRAFFIC_NO_REG_PROXY, TRAFFIC_SAFE_POLICY_PROXY])\n",
    "TRAFFIC_THRESHOLD_TRUE = (\n",
    "    TRAFFIC_SAFE_POLICY_TRUE  # np.mean([TRAFFIC_NO_REG_TRUE, TRAFFIC_SAFE_POLICY_TRUE])\n",
    ")"
   ]
  },
  {
   "cell_type": "markdown",
   "id": "3fff1131",
   "metadata": {},
   "source": [
    "# Setup of progress files"
   ]
  },
  {
   "cell_type": "code",
   "execution_count": 4,
   "id": "4112166d",
   "metadata": {},
   "outputs": [],
   "source": [
    "# Glucose\n",
    "files_to_evaluate_glucose_om = glob.glob(\n",
    "    \"/nas/ucb/shivamsinghal/occupancy-measure-anomaly-detection/data/logs/glucose/ORPO/*/model_256-256/ICML-bcinit/OM/*/*/*/*/checkpoint_000500\"\n",
    ")\n",
    "files_to_evaluate_glucose_policy = glob.glob(\n",
    "    \"/nas/ucb/shivamsinghal/occupancy-measure-anomaly-detection/data/logs/glucose/ORPO/*/model_256-256/ICML-bcinit/AD/*/*/*/checkpoint_000500\"\n",
    ")\n",
    "files_to_evaluate_glucose = (\n",
    "    files_to_evaluate_glucose_om + files_to_evaluate_glucose_policy\n",
    ")\n",
    "glucose_events = [\n",
    "    f'{g[:g.rindex(\"/\")]}/progress.csv' for g in files_to_evaluate_glucose\n",
    "]\n",
    "glucose_events = [pd.read_csv(glob.glob(g)[0]) for g in glucose_events]\n",
    "\n",
    "# Pandemic\n",
    "files_to_evaluate_pandemic_om = glob.glob(\n",
    "    \"/nas/ucb/shivamsinghal/occupancy-measure-anomaly-detection/data/logs/pandemic/ORPO/*/model_128-128/ICML-bcinit/OM/*/weights_10.0_0.1_0.01/*/*/*/checkpoint_000260\"\n",
    ")\n",
    "file_to_evaluate_pandemic_policy = glob.glob(\n",
    "    \"/nas/ucb/shivamsinghal/occupancy-measure-anomaly-detection/data/logs/pandemic/ORPO/proxy/model_128-128/ICML-bcinit/AD/weights_10.0_0.1_0.01/*/*/*/checkpoint_000260\"\n",
    ")\n",
    "files_to_evaluate_pandemic = (\n",
    "    file_to_evaluate_pandemic_policy + files_to_evaluate_pandemic_om\n",
    ")\n",
    "pandemic_events = [\n",
    "    f'{g[:g.rindex(\"/\")]}/progress.csv' for g in files_to_evaluate_pandemic\n",
    "]\n",
    "pandemic_events = [pd.read_csv(glob.glob(g)[0]) for g in pandemic_events]\n",
    "\n",
    "# Tomato\n",
    "files_to_evaluate_tomato_policy = glob.glob(\n",
    "    \"/nas/ucb/shivamsinghal/occupancy-measure-anomaly-detection/data/logs/tomato/rhard/ORPO/*/model_512-512-512-512/ICML-rand/AD/new_policy/*/*/*/checkpoint_000500\"\n",
    ")\n",
    "files_to_evaluate_tomato_om = glob.glob(\n",
    "    \"/nas/ucb/shivamsinghal/occupancy-measure-anomaly-detection/data/logs/tomato/rhard/ORPO/*/model_512-512-512-512/ICML-rand/OM/*/new_policy/*/*/*/checkpoint_000500\"\n",
    ")\n",
    "files_to_evaluate_tomato = files_to_evaluate_tomato_policy + files_to_evaluate_tomato_om\n",
    "tomato_events = [f'{g[:g.rindex(\"/\")]}/progress.csv' for g in files_to_evaluate_tomato]\n",
    "tomato_events = [pd.read_csv(glob.glob(g)[0]) for g in tomato_events]\n",
    "\n",
    "# Traffic\n",
    "files_to_evaluate_traffic = glob.glob(\n",
    "    \"/nas/ucb/cassidy/occupancy-measures/data/logs/traffic/singleagent_merge_bus/ORPO/proxy/model_512-512-512-512/icml/*/*/seed_[0-4]/*/progress.csv\"\n",
    ")\n",
    "traffic_events = [pd.read_csv(f) for f in files_to_evaluate_traffic]"
   ]
  },
  {
   "cell_type": "code",
   "execution_count": 5,
   "id": "7a532895",
   "metadata": {},
   "outputs": [],
   "source": [
    "def split_and_average(array, num_splits=10):\n",
    "    split_arrays = np.array_split(array, num_splits)\n",
    "    averages = [np.mean(split) for split in split_arrays]\n",
    "    return averages"
   ]
  },
  {
   "cell_type": "code",
   "execution_count": 6,
   "id": "cf0c17f4",
   "metadata": {},
   "outputs": [],
   "source": [
    "def index_of_max_average_change(data):\n",
    "    moving_averages = [(data[i] + data[i + 1]) / 2 for i in range(len(data) - 1)]\n",
    "    changes = [\n",
    "        abs(moving_averages[i + 1] - moving_averages[i])\n",
    "        for i in range(len(moving_averages) - 1)\n",
    "    ]\n",
    "    max_change_index = changes.index(max(changes))\n",
    "    return moving_averages[max_change_index]"
   ]
  },
  {
   "cell_type": "code",
   "execution_count": 7,
   "id": "1afc137c",
   "metadata": {},
   "outputs": [],
   "source": [
    "def max_accuracy(scores, labels):\n",
    "    possible_accuracies = np.equal(\n",
    "        scores[None, :] > scores[:, None],\n",
    "        labels[None, :],\n",
    "    ).mean(axis=1)\n",
    "    max_accuracy = possible_accuracies.max()\n",
    "    return max_accuracy"
   ]
  },
  {
   "cell_type": "code",
   "execution_count": 8,
   "id": "46b0ad9b",
   "metadata": {},
   "outputs": [],
   "source": [
    "def get_stacked_results(files):\n",
    "    proxy = [split_and_average(list(d[PROXY_REWARD_TAGS])) for d in files]\n",
    "    true = [split_and_average(list(d[TRUE_REWARD_TAGS])) for d in files]\n",
    "    om = [split_and_average(list(d[OM_TAGS])) for d in files]\n",
    "    ad = [split_and_average(list(d[AD_TAGS])) for d in files]\n",
    "    return np.stack(proxy), np.stack(true), np.stack(om), np.stack(ad)"
   ]
  },
  {
   "cell_type": "code",
   "execution_count": 19,
   "id": "9539c89f",
   "metadata": {},
   "outputs": [
    {
     "name": "stderr",
     "output_type": "stream",
     "text": [
      "/nas/ucb/k8/shivamsinghal/anaconda3/lib/python3.9/site-packages/numpy/core/fromnumeric.py:3504: RuntimeWarning: Mean of empty slice.\n",
      "  return _methods._mean(a, axis=axis, dtype=dtype,\n",
      "/nas/ucb/k8/shivamsinghal/anaconda3/lib/python3.9/site-packages/numpy/core/_methods.py:129: RuntimeWarning: invalid value encountered in scalar divide\n",
      "  ret = ret.dtype.type(ret / rcount)\n"
     ]
    }
   ],
   "source": [
    "glucose_proxy_stack, glucose_true_stack, glucose_om_stack, glucose_ad_stack = (\n",
    "    get_stacked_results(glucose_events)\n",
    ")\n",
    "pandemic_proxy_stack, pandemic_true_stack, pandemic_om_stack, pandemic_ad_stack = (\n",
    "    get_stacked_results(pandemic_events)\n",
    ")\n",
    "traffic_proxy_stack, traffic_true_stack, traffic_om_stack, traffic_ad_stack = (\n",
    "    get_stacked_results(traffic_events)\n",
    ")\n",
    "tomato_proxy_stack, tomato_true_stack, tomato_om_stack, tomato_ad_stack = (\n",
    "    get_stacked_results(tomato_events)\n",
    ")"
   ]
  },
  {
   "cell_type": "code",
   "execution_count": 21,
   "id": "cfdeda60",
   "metadata": {},
   "outputs": [],
   "source": [
    "# traffic files have some null data\n",
    "traffic_om_stack = np.delete(\n",
    "    traffic_om_stack, np.where(np.isnan(traffic_ad_stack))[0], axis=0\n",
    ")\n",
    "traffic_proxy_stack = np.delete(\n",
    "    traffic_proxy_stack, np.where(np.isnan(traffic_ad_stack))[0], axis=0\n",
    ")\n",
    "traffic_true_stack = np.delete(\n",
    "    traffic_true_stack, np.where(np.isnan(traffic_ad_stack))[0], axis=0\n",
    ")\n",
    "traffic_ad_stack = np.delete(\n",
    "    traffic_ad_stack, np.where(np.isnan(traffic_ad_stack))[0], axis=0\n",
    ")\n",
    "\n",
    "traffic_ad_stack = np.delete(\n",
    "    traffic_ad_stack, np.where(np.isnan(traffic_om_stack))[0], axis=0\n",
    ")\n",
    "traffic_proxy_stack = np.delete(\n",
    "    traffic_proxy_stack, np.where(np.isnan(traffic_om_stack))[0], axis=0\n",
    ")\n",
    "traffic_true_stack = np.delete(\n",
    "    traffic_true_stack, np.where(np.isnan(traffic_om_stack))[0], axis=0\n",
    ")\n",
    "traffic_om_stack = np.delete(\n",
    "    traffic_om_stack, np.where(np.isnan(traffic_om_stack))[0], axis=0\n",
    ")\n",
    "\n",
    "traffic_ad_stack = np.delete(\n",
    "    traffic_ad_stack, np.where(np.isnan(traffic_proxy_stack))[0], axis=0\n",
    ")\n",
    "traffic_om_stack = np.delete(\n",
    "    traffic_om_stack, np.where(np.isnan(traffic_proxy_stack))[0], axis=0\n",
    ")\n",
    "traffic_true_stack = np.delete(\n",
    "    traffic_true_stack, np.where(np.isnan(traffic_proxy_stack))[0], axis=0\n",
    ")\n",
    "traffic_proxy_stack = np.delete(\n",
    "    traffic_proxy_stack, np.where(np.isnan(traffic_proxy_stack))[0], axis=0\n",
    ")\n",
    "\n",
    "traffic_ad_stack = np.delete(\n",
    "    traffic_ad_stack, np.where(np.isnan(traffic_true_stack))[0], axis=0\n",
    ")\n",
    "traffic_om_stack = np.delete(\n",
    "    traffic_om_stack, np.where(np.isnan(traffic_true_stack))[0], axis=0\n",
    ")\n",
    "traffic_proxy_stack = np.delete(\n",
    "    traffic_proxy_stack, np.where(np.isnan(traffic_true_stack))[0], axis=0\n",
    ")\n",
    "traffic_true_stack = np.delete(\n",
    "    traffic_true_stack, np.where(np.isnan(traffic_true_stack))[0], axis=0\n",
    ")"
   ]
  },
  {
   "cell_type": "code",
   "execution_count": 26,
   "id": "4f6f0c89",
   "metadata": {},
   "outputs": [],
   "source": [
    "# def get_thresholds(safe_policy_true, safe_policy_proxy, events, evaluation_files, no_reg_tag=\"state-action/kl-0/\"):\n",
    "#     no_regularization_runs = [events[i] for i in range(len(evaluation_files)) if no_reg_tag in evaluation_files[i] and \"proxy\" in evaluation_files[i]]\n",
    "#     true_reward_no_reg = np.median([run[TRUE_REWARD_TAGS].iat[-1] for run in no_regularization_runs])\n",
    "#     proxy_reward_no_reg = np.median([run[PROXY_REWARD_TAGS].iat[-1] for run in no_regularization_runs])\n",
    "#     print(true_reward_no_reg)\n",
    "#     return np.mean([true_reward_no_reg, safe_policy_true]), np.mean([proxy_reward_no_reg, safe_policy_proxy])"
   ]
  },
  {
   "cell_type": "markdown",
   "id": "692a7080",
   "metadata": {},
   "source": [
    "# Analyze data and Calculate metrics"
   ]
  },
  {
   "cell_type": "code",
   "execution_count": 34,
   "id": "11e9d9a1",
   "metadata": {},
   "outputs": [],
   "source": [
    "def get_auroc_and_max_accuracy(\n",
    "    proxy_stack, proxy_threshold, true_stack, true_threshold, ad, om\n",
    "):\n",
    "    reward_hacking = np.logical_and(\n",
    "        proxy_stack > proxy_threshold, true_stack < true_threshold\n",
    "    ).astype(int)\n",
    "    reward_hacking_concat = np.concatenate(reward_hacking).ravel()\n",
    "    om_concat = np.concatenate(om).ravel()\n",
    "    ad_concat = np.concatenate(ad).ravel()\n",
    "\n",
    "    fpr_om, tpr_om, thresholds = metrics.roc_curve(reward_hacking_concat, om_concat)\n",
    "    roc_auc_om = metrics.auc(fpr_om, tpr_om)\n",
    "    fpr_ad, tpr_ad, thresholds = metrics.roc_curve(reward_hacking_concat, ad_concat)\n",
    "    roc_auc_ad = metrics.auc(fpr_ad, tpr_ad)\n",
    "\n",
    "    om_max_accuracy = max_accuracy(om_concat, reward_hacking_concat)\n",
    "    ad_max_accuracy = max_accuracy(ad_concat, reward_hacking_concat)\n",
    "\n",
    "    return (\n",
    "        {\"fpr\": fpr_om, \"tpr\": tpr_om, \"roc_auc\": roc_auc_om},\n",
    "        {\"fpr\": fpr_ad, \"tpr\": tpr_ad, \"roc_auc\": roc_auc_ad},\n",
    "        om_max_accuracy,\n",
    "        ad_max_accuracy,\n",
    "    )"
   ]
  },
  {
   "cell_type": "markdown",
   "id": "c7cb54a0",
   "metadata": {},
   "source": [
    "Glucose"
   ]
  },
  {
   "cell_type": "code",
   "execution_count": 37,
   "id": "29b106ec",
   "metadata": {
    "scrolled": false
   },
   "outputs": [],
   "source": [
    "(\n",
    "    glucose_roc_auc_om,\n",
    "    glucose_roc_auc_ad,\n",
    "    glucose_om_max_accuracy,\n",
    "    glucose_ad_max_accuracy,\n",
    ") = get_auroc_and_max_accuracy(\n",
    "    glucose_proxy_stack,\n",
    "    GLUCOSE_THRESHOLD_PROXY,\n",
    "    glucose_true_stack,\n",
    "    GLUCOSE_THRESHOLD_TRUE,\n",
    "    glucose_ad_stack,\n",
    "    glucose_om_stack,\n",
    ")\n",
    "\n",
    "with open(\"glucose_roc_auc_om.pickle\", \"wb\") as handle:\n",
    "    pickle.dump(glucose_roc_auc_om, handle, protocol=pickle.HIGHEST_PROTOCOL)\n",
    "with open(\"glucose_roc_auc_ad.pickle\", \"wb\") as handle:\n",
    "    pickle.dump(glucose_roc_auc_ad, handle, protocol=pickle.HIGHEST_PROTOCOL)"
   ]
  },
  {
   "cell_type": "markdown",
   "id": "0944a7d4",
   "metadata": {},
   "source": [
    "Pandemic"
   ]
  },
  {
   "cell_type": "code",
   "execution_count": 39,
   "id": "bb4c96fb",
   "metadata": {},
   "outputs": [],
   "source": [
    "(\n",
    "    pandemic_roc_auc_om,\n",
    "    pandemic_roc_auc_ad,\n",
    "    pandemic_om_max_accuracy,\n",
    "    pandemic_ad_max_accuracy,\n",
    ") = get_auroc_and_max_accuracy(\n",
    "    pandemic_proxy_stack,\n",
    "    PANDEMIC_THRESHOLD_PROXY,\n",
    "    pandemic_true_stack,\n",
    "    PANDEMIC_THRESHOLD_TRUE,\n",
    "    pandemic_ad_stack,\n",
    "    pandemic_om_stack,\n",
    ")\n",
    "\n",
    "with open(\"pandemic_roc_auc_om.pickle\", \"wb\") as handle:\n",
    "    pickle.dump(pandemic_roc_auc_om, handle, protocol=pickle.HIGHEST_PROTOCOL)\n",
    "with open(\"pandemic_roc_auc_ad.pickle\", \"wb\") as handle:\n",
    "    pickle.dump(pandemic_roc_auc_ad, handle, protocol=pickle.HIGHEST_PROTOCOL)"
   ]
  },
  {
   "cell_type": "markdown",
   "id": "08145ad7",
   "metadata": {},
   "source": [
    "Traffic"
   ]
  },
  {
   "cell_type": "code",
   "execution_count": 41,
   "id": "786c9eab",
   "metadata": {},
   "outputs": [],
   "source": [
    "(\n",
    "    traffic_roc_auc_om,\n",
    "    traffic_roc_auc_ad,\n",
    "    traffic_om_max_accuracy,\n",
    "    traffic_ad_max_accuracy,\n",
    ") = get_auroc_and_max_accuracy(\n",
    "    traffic_proxy_stack,\n",
    "    TRAFFIC_THRESHOLD_PROXY,\n",
    "    traffic_true_stack,\n",
    "    TRAFFIC_THRESHOLD_TRUE,\n",
    "    traffic_ad_stack,\n",
    "    traffic_om_stack,\n",
    ")\n",
    "\n",
    "with open(\"traffic_roc_auc_om.pickle\", \"wb\") as handle:\n",
    "    pickle.dump(traffic_roc_auc_om, handle, protocol=pickle.HIGHEST_PROTOCOL)\n",
    "with open(\"traffic_roc_auc_ad.pickle\", \"wb\") as handle:\n",
    "    pickle.dump(traffic_roc_auc_ad, handle, protocol=pickle.HIGHEST_PROTOCOL)"
   ]
  },
  {
   "cell_type": "markdown",
   "id": "09dee3ce",
   "metadata": {},
   "source": [
    "Tomato"
   ]
  },
  {
   "cell_type": "code",
   "execution_count": 42,
   "id": "a7d072f3",
   "metadata": {},
   "outputs": [],
   "source": [
    "tomato_roc_auc_om, tomato_roc_auc_ad, tomato_om_max_accuracy, tomato_ad_max_accuracy = (\n",
    "    get_auroc_and_max_accuracy(\n",
    "        tomato_proxy_stack,\n",
    "        TOMATO_THRESHOLD_PROXY,\n",
    "        tomato_true_stack,\n",
    "        TOMATO_THRESHOLD_TRUE,\n",
    "        tomato_ad_stack,\n",
    "        tomato_om_stack,\n",
    "    )\n",
    ")\n",
    "\n",
    "with open(\"tomato_roc_auc_om.pickle\", \"wb\") as handle:\n",
    "    pickle.dump(tomato_roc_auc_om, handle, protocol=pickle.HIGHEST_PROTOCOL)\n",
    "with open(\"tomato_roc_auc_ad.pickle\", \"wb\") as handle:\n",
    "    pickle.dump(tomato_roc_auc_ad, handle, protocol=pickle.HIGHEST_PROTOCOL)"
   ]
  },
  {
   "cell_type": "markdown",
   "id": "3a851bf9",
   "metadata": {},
   "source": [
    "# Tabulate Results"
   ]
  },
  {
   "cell_type": "code",
   "execution_count": 46,
   "id": "d8506958",
   "metadata": {},
   "outputs": [],
   "source": [
    "data_cols = [\"env\", \"OM AUROC\", \"AD AUROC\", \"OM max accuracy\", \"AD max accuracy\"]"
   ]
  },
  {
   "cell_type": "code",
   "execution_count": 54,
   "id": "b712ce01",
   "metadata": {},
   "outputs": [],
   "source": [
    "tomato_data = [\n",
    "    \"Tomato\",\n",
    "    tomato_roc_auc_om[\"roc_auc\"],\n",
    "    tomato_roc_auc_ad[\"roc_auc\"],\n",
    "    tomato_om_max_accuracy,\n",
    "    tomato_ad_max_accuracy,\n",
    "]\n",
    "traffic_data = [\n",
    "    \"Traffic\",\n",
    "    traffic_roc_auc_om[\"roc_auc\"],\n",
    "    traffic_roc_auc_ad[\"roc_auc\"],\n",
    "    traffic_om_max_accuracy,\n",
    "    traffic_ad_max_accuracy,\n",
    "]\n",
    "glucose_data = [\n",
    "    \"Glucose\",\n",
    "    glucose_roc_auc_om[\"roc_auc\"],\n",
    "    glucose_roc_auc_ad[\"roc_auc\"],\n",
    "    glucose_om_max_accuracy,\n",
    "    glucose_ad_max_accuracy,\n",
    "]\n",
    "pandemic_data = [\n",
    "    \"Pandemic\",\n",
    "    pandemic_roc_auc_om[\"roc_auc\"],\n",
    "    pandemic_roc_auc_ad[\"roc_auc\"],\n",
    "    pandemic_om_max_accuracy,\n",
    "    pandemic_ad_max_accuracy,\n",
    "]\n",
    "\n",
    "data = [tomato_data, traffic_data, glucose_data, pandemic_data]"
   ]
  },
  {
   "cell_type": "code",
   "execution_count": 55,
   "id": "e43c3998",
   "metadata": {},
   "outputs": [],
   "source": [
    "data_df = pd.DataFrame(data, columns=data_cols)"
   ]
  },
  {
   "cell_type": "code",
   "execution_count": 56,
   "id": "fa99973b",
   "metadata": {},
   "outputs": [],
   "source": [
    "data_df = data_df.set_index(\"env\")"
   ]
  },
  {
   "cell_type": "code",
   "execution_count": 57,
   "id": "cc1341b6",
   "metadata": {},
   "outputs": [
    {
     "name": "stderr",
     "output_type": "stream",
     "text": [
      "/tmp/ipykernel_916993/2218615829.py:1: FutureWarning: In future versions `DataFrame.to_latex` is expected to utilise the base implementation of `Styler.to_latex` for formatting and rendering. The arguments signature may therefore change. It is recommended instead to use `DataFrame.style.to_latex` which also contains additional functionality.\n",
      "  data_df.to_latex()\n"
     ]
    },
    {
     "data": {
      "text/plain": [
       "'\\\\begin{tabular}{lrrrr}\\n\\\\toprule\\n{} &  OM AUROC &  AD AUROC &  OM max accuracy &  AD max accuracy \\\\\\\\\\nenv      &           &           &                  &                  \\\\\\\\\\n\\\\midrule\\nTomato   &  0.995784 &  0.888248 &         0.965022 &         0.856951 \\\\\\\\\\nTraffic  &  0.995171 &  0.981247 &         0.966163 &         0.919335 \\\\\\\\\\nGlucose  &  0.991331 &  0.785263 &         0.950000 &         0.742273 \\\\\\\\\\nPandemic &  0.936118 &  0.821251 &         0.896364 &         0.752727 \\\\\\\\\\n\\\\bottomrule\\n\\\\end{tabular}\\n'"
      ]
     },
     "execution_count": 57,
     "metadata": {},
     "output_type": "execute_result"
    }
   ],
   "source": [
    "data_df.to_latex()"
   ]
  },
  {
   "cell_type": "code",
   "execution_count": 61,
   "id": "54b6e2f0",
   "metadata": {},
   "outputs": [
    {
     "name": "stdout",
     "output_type": "stream",
     "text": [
      "\n",
      "\\begin{table}[ht]\n",
      "\\centering\n",
      "\\caption{Summary of Environment Performance}\n",
      "\\label{table:environment_performance}\n",
      "\\small \n",
      "\\begin{tabular}{@{}lcccc@{}}\n",
      "\\hline\n",
      "Environment & OM AUROC & AD AUROC & OM Max Acc. & AD Max Acc. \\\\\n",
      "\\hline\n",
      "Tomato & 1.00 & 0.89 & 0.97 & 0.86 \\\\\n",
      "Traffic & 1.00 & 0.98 & 0.97 & 0.92 \\\\\n",
      "Glucose & 0.99 & 0.79 & 0.95 & 0.74 \\\\\n",
      "Pandemic & 0.94 & 0.82 & 0.90 & 0.75 \\\\\n",
      "\\hline\n",
      "\\end{tabular}\n",
      "\\end{table}\n",
      "\n"
     ]
    }
   ],
   "source": [
    "# Adjusting the LaTeX table string to fit a single column in a two-column paper with smaller font size\n",
    "latex_table_single_column = \"\"\"\n",
    "\\\\begin{table}[ht]\n",
    "\\\\centering\n",
    "\\\\caption{Summary of Environment Performance}\n",
    "\\\\label{table:environment_performance}\n",
    "\\\\small \n",
    "\\\\begin{tabular}{@{}lcccc@{}}\n",
    "\\\\hline\n",
    "Environment & OM AUROC & AD AUROC & OM Max Acc. & AD Max Acc. \\\\\\\\\n",
    "\\\\hline\n",
    "\"\"\"\n",
    "for row in data:\n",
    "    formatted_row = [format_2sf(item) for item in row]\n",
    "    latex_table_single_column += \" & \".join(formatted_row) + \" \\\\\\\\\\n\"\n",
    "latex_table_single_column += \"\"\"\\\\hline\n",
    "\\\\end{tabular}\n",
    "\\\\end{table}\n",
    "\"\"\"\n",
    "\n",
    "print(latex_table_single_column)"
   ]
  }
 ],
 "metadata": {
  "kernelspec": {
   "display_name": "Python 3 (ipykernel)",
   "language": "python",
   "name": "python3"
  },
  "language_info": {
   "codemirror_mode": {
    "name": "ipython",
    "version": 3
   },
   "file_extension": ".py",
   "mimetype": "text/x-python",
   "name": "python",
   "nbconvert_exporter": "python",
   "pygments_lexer": "ipython3",
   "version": "3.9.13"
  }
 },
 "nbformat": 4,
 "nbformat_minor": 5
}
